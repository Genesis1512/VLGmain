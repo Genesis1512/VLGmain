{
 "cells": [
  {
   "cell_type": "code",
   "execution_count": 1,
   "id": "14476166-25b1-411d-aa4b-c3d14ea503b7",
   "metadata": {},
   "outputs": [
    {
     "name": "stdout",
     "output_type": "stream",
     "text": [
      "WARNING:tensorflow:From C:\\Users\\KAUSTUBH\\AppData\\Local\\Programs\\Python\\Python311\\Lib\\site-packages\\keras\\src\\losses.py:2976: The name tf.losses.sparse_softmax_cross_entropy is deprecated. Please use tf.compat.v1.losses.sparse_softmax_cross_entropy instead.\n",
      "\n"
     ]
    }
   ],
   "source": [
    "import tensorflow as tf\n",
    "from tensorflow import keras\n",
    "from tensorflow.keras import models , layers\n",
    "import matplotlib.pyplot as plt\n",
    "%matplotlib inline\n",
    "import numpy as np\n",
    "import pandas as pd\n"
   ]
  },
  {
   "cell_type": "code",
   "execution_count": 2,
   "id": "070b5cf1-ef69-4ec9-a4df-68748bdc945d",
   "metadata": {},
   "outputs": [
    {
     "name": "stdout",
     "output_type": "stream",
     "text": [
      "Found 970 files belonging to 1 classes.\n"
     ]
    }
   ],
   "source": [
    "data = tf.keras.preprocessing.image_dataset_from_directory(\n",
    "    \"Train\",\n",
    "    shuffle=True,\n",
    "    batch_size=16,\n",
    "    image_size=(256, 256),\n",
    "    label_mode=None,  \n",
    "    class_names=['low'] \n",
    ")\n"
   ]
  },
  {
   "cell_type": "code",
   "execution_count": 3,
   "id": "02d9835f-81a4-4cf4-a081-f1e5f3721506",
   "metadata": {},
   "outputs": [
    {
     "data": {
      "text/plain": [
       "61"
      ]
     },
     "execution_count": 3,
     "metadata": {},
     "output_type": "execute_result"
    }
   ],
   "source": [
    "len(data)"
   ]
  },
  {
   "cell_type": "code",
   "execution_count": 4,
   "id": "2eb085f8-2a92-4d99-9e10-ab4152226878",
   "metadata": {},
   "outputs": [
    {
     "data": {
      "text/plain": [
       "48.800000000000004"
      ]
     },
     "execution_count": 4,
     "metadata": {},
     "output_type": "execute_result"
    }
   ],
   "source": [
    "0.8*len(data)"
   ]
  },
  {
   "cell_type": "code",
   "execution_count": 5,
   "id": "edbbec6f-957f-4b19-b01f-c41e937320ef",
   "metadata": {},
   "outputs": [],
   "source": [
    "train_data = data.take(48)"
   ]
  },
  {
   "cell_type": "code",
   "execution_count": 6,
   "id": "feb26b6b-5482-464c-b5cd-5f2e124154d4",
   "metadata": {},
   "outputs": [],
   "source": [
    "test_data = data.skip(48)\n",
    "val_data = test_data.take(6)\n",
    "test_data = test_data.skip(6)\n"
   ]
  },
  {
   "cell_type": "code",
   "execution_count": 7,
   "id": "df90040d-dce0-4a54-b877-316b3d003b9a",
   "metadata": {},
   "outputs": [],
   "source": [
    "train_data= train_data.cache().shuffle(1000).prefetch(buffer_size=tf.data.AUTOTUNE)\n",
    "valid_data= val_data.cache().shuffle(1000).prefetch(buffer_size=tf.data.AUTOTUNE)\n",
    "test_data=test_data.cache().shuffle(1000).prefetch(buffer_size=tf.data.AUTOTUNE)"
   ]
  },
  {
   "cell_type": "code",
   "execution_count": 8,
   "id": "73b08f29-fbde-4920-89c6-1e29a8bdcce2",
   "metadata": {},
   "outputs": [
    {
     "name": "stdout",
     "output_type": "stream",
     "text": [
      "WARNING:tensorflow:From C:\\Users\\KAUSTUBH\\AppData\\Local\\Programs\\Python\\Python311\\Lib\\site-packages\\keras\\src\\backend.py:873: The name tf.get_default_graph is deprecated. Please use tf.compat.v1.get_default_graph instead.\n",
      "\n"
     ]
    }
   ],
   "source": [
    "resize = tf.keras.Sequential([ \n",
    "    tf.keras.layers.Resizing(256, 256),   \n",
    "    tf.keras.layers.Rescaling(scale=1./255),   \n",
    "])"
   ]
  },
  {
   "cell_type": "code",
   "execution_count": 9,
   "id": "dfc49cb1-46d6-4783-b62c-c01de72fde36",
   "metadata": {},
   "outputs": [],
   "source": [
    "train_data = train_data.map(lambda x: resize(x))\n",
    "valid_data = valid_data.map(lambda x: resize(x))\n",
    "test_data = test_data.map(lambda x: resize(x))"
   ]
  },
  {
   "cell_type": "code",
   "execution_count": 10,
   "id": "05def172-ac1f-4fe5-b699-1ab946c8768e",
   "metadata": {},
   "outputs": [
    {
     "name": "stdout",
     "output_type": "stream",
     "text": [
      "Batch shape: (16, 256, 256, 3)\n",
      "Batch pixel range: 0.0 to 255.0\n"
     ]
    }
   ],
   "source": [
    "for images in data.take(1):\n",
    "    print(f\"Batch shape: {images.shape}\")\n",
    "    print(f\"Batch pixel range: {images.numpy().min()} to {images.numpy().max()}\")"
   ]
  },
  {
   "cell_type": "code",
   "execution_count": 11,
   "id": "34441944-8582-4c71-aebf-efa8c415993e",
   "metadata": {},
   "outputs": [],
   "source": [
    "input_shape = (256, 256, 3)\n",
    "\n",
    "# Define the DCE-Net architecture\n",
    "inputs = tf.keras.Input(shape=input_shape)\n",
    "conv1 = layers.Conv2D(32, (3, 3), activation='relu', padding='same')(inputs)\n",
    "conv2 = layers.Conv2D(64, (3, 3), activation='relu', padding='same')(conv1)\n",
    "conv3 = layers.Conv2D(128, (3, 3), activation='relu', padding='same')(conv2)\n",
    "conv4 = layers.Conv2D(256, (3, 3), activation='relu', padding='same')(conv3)\n",
    "conv5 = layers.Conv2D(128, (3, 3), activation='relu', padding='same')(conv4)\n",
    "conv6 = layers.Conv2D(64, (3, 3), activation='relu', padding='same')(conv5)\n",
    "conv7 = layers.Conv2D(32, (3, 3), activation='relu', padding='same')(conv6)\n",
    "enhanced_output = layers.Conv2D(3, (3, 3), activation='sigmoid', padding='same')(conv7)\n",
    "\n",
    "dce_model = tf.keras.Model(inputs=inputs, outputs=enhanced_output, name=\"DCE_Net\")"
   ]
  },
  {
   "cell_type": "code",
   "execution_count": 12,
   "id": "3e5002a4-5f5e-494d-baf6-6bf54c33df73",
   "metadata": {},
   "outputs": [],
   "source": [
    "def color_constancy_loss(x):\n",
    "    mean_rgb = tf.reduce_mean(x, axis=(1, 2), keepdims=True)\n",
    "    squared_diff = tf.square(mean_rgb - tf.transpose(mean_rgb, perm=[0, 2, 1, 3]))\n",
    "    return tf.sqrt(tf.reduce_sum(squared_diff, axis=-1))"
   ]
  },
  {
   "cell_type": "code",
   "execution_count": 13,
   "id": "de783e70-ace4-41f9-9381-e18a8e0ca89c",
   "metadata": {},
   "outputs": [],
   "source": [
    "def exposure_loss(x, mean_val=0.6):\n",
    "    x_mean = tf.reduce_mean(x, axis=3, keepdims=True)\n",
    "    mean = tf.nn.avg_pool2d(x_mean, ksize=16, strides=16, padding=\"VALID\")\n",
    "    square_diff = tf.square(mean - mean_val)\n",
    "    return tf.reduce_mean(square_diff)"
   ]
  },
  {
   "cell_type": "code",
   "execution_count": 14,
   "id": "5922588d-4747-4134-bc9c-7b1823b8b94c",
   "metadata": {},
   "outputs": [],
   "source": [
    "def illumination_smoothness_loss(x):\n",
    "    batch_size = tf.cast(tf.shape(x)[0], dtype=tf.float32)\n",
    "    h_x = tf.shape(x)[1]\n",
    "    w_x = tf.shape(x)[2]\n",
    "    count_h = (tf.shape(x)[2] - 1) * tf.shape(x)[3]\n",
    "    count_w = tf.shape(x)[2] * (tf.shape(x)[3] - 1)\n",
    "    h_tv = tf.reduce_sum(tf.square((x[:, 1:, :, :] - x[:, :h_x - 1, :, :])))\n",
    "    w_tv = tf.reduce_sum(tf.square((x[:, :, 1:, :] - x[:, :, :w_x - 1, :])))\n",
    "    count_h = tf.cast(count_h, dtype=tf.float32)\n",
    "    count_w = tf.cast(count_w, dtype=tf.float32)\n",
    "    return 2 * (h_tv / count_h + w_tv / count_w) / batch_size"
   ]
  },
  {
   "cell_type": "code",
   "execution_count": null,
   "id": "2676fa71-e7b6-4017-8948-c94bcf9a1b32",
   "metadata": {},
   "outputs": [],
   "source": []
  },
  {
   "cell_type": "code",
   "execution_count": 15,
   "id": "44c27146-912d-4acd-9a69-ab5818351f42",
   "metadata": {},
   "outputs": [],
   "source": [
    "class SpatialConsistencyLoss(keras.losses.Loss):\n",
    "    def __init__(self, **kwargs):\n",
    "        super().__init__(reduction=\"none\")\n",
    "\n",
    "        self.left_kernel = tf.constant(\n",
    "            [[[[0, 0, 0]], [[-1, 1, 0]], [[0, 0, 0]]]], dtype=tf.float32\n",
    "        )\n",
    "        self.right_kernel = tf.constant(\n",
    "            [[[[0, 0, 0]], [[0, 1, -1]], [[0, 0, 0]]]], dtype=tf.float32\n",
    "        )\n",
    "        self.up_kernel = tf.constant(\n",
    "            [[[[0, -1, 0]], [[0, 1, 0]], [[0, 0, 0]]]], dtype=tf.float32\n",
    "        )\n",
    "        self.down_kernel = tf.constant(\n",
    "            [[[[0, 0, 0]], [[0, 1, 0]], [[0, -1, 0]]]], dtype=tf.float32\n",
    "        )\n",
    "\n",
    "    def call(self, y_true, y_pred):\n",
    "        original_mean = tf.reduce_mean(y_true, 3, keepdims=True)\n",
    "        enhanced_mean = tf.reduce_mean(y_pred, 3, keepdims=True)\n",
    "        original_pool = tf.nn.avg_pool2d(\n",
    "            original_mean, ksize=4, strides=4, padding=\"VALID\"\n",
    "        )\n",
    "        enhanced_pool = tf.nn.avg_pool2d(\n",
    "            enhanced_mean, ksize=4, strides=4, padding=\"VALID\"\n",
    "        )\n",
    "\n",
    "        d_original_left = tf.nn.conv2d(\n",
    "            original_pool,\n",
    "            self.left_kernel,\n",
    "            strides=[1, 1, 1, 1],\n",
    "            padding=\"SAME\",\n",
    "        )\n",
    "        d_original_right = tf.nn.conv2d(\n",
    "            original_pool,\n",
    "            self.right_kernel,\n",
    "            strides=[1, 1, 1, 1],\n",
    "            padding=\"SAME\",\n",
    "        )\n",
    "        d_original_up = tf.nn.conv2d(\n",
    "            original_pool, self.up_kernel, strides=[1, 1, 1, 1], padding=\"SAME\"\n",
    "        )\n",
    "        d_original_down = tf.nn.conv2d(\n",
    "            original_pool,\n",
    "            self.down_kernel,\n",
    "            strides=[1, 1, 1, 1],\n",
    "            padding=\"SAME\",\n",
    "        )\n",
    "\n",
    "        d_enhanced_left = tf.nn.conv2d(\n",
    "            enhanced_pool,\n",
    "            self.left_kernel,\n",
    "            strides=[1, 1, 1, 1],\n",
    "            padding=\"SAME\",\n",
    "        )\n",
    "        d_enhanced_right = tf.nn.conv2d(\n",
    "            enhanced_pool,\n",
    "            self.right_kernel,\n",
    "            strides=[1, 1, 1, 1],\n",
    "            padding=\"SAME\",\n",
    "        )\n",
    "        d_enhanced_up = tf.nn.conv2d(\n",
    "            enhanced_pool, self.up_kernel, strides=[1, 1, 1, 1], padding=\"SAME\"\n",
    "        )\n",
    "        d_enhanced_down = tf.nn.conv2d(\n",
    "            enhanced_pool,\n",
    "            self.down_kernel,\n",
    "            strides=[1, 1, 1, 1],\n",
    "            padding=\"SAME\",\n",
    "        )\n",
    "\n",
    "        d_left = tf.square(d_original_left - d_enhanced_left)\n",
    "        d_right = tf.square(d_original_right - d_enhanced_right)\n",
    "        d_up = tf.square(d_original_up - d_enhanced_up)\n",
    "        d_down = tf.square(d_original_down - d_enhanced_down)\n",
    "        return d_left + d_right + d_up + d_down"
   ]
  },
  {
   "cell_type": "code",
   "execution_count": 16,
   "id": "c4a49159-4137-4c91-b074-d6666d7123cc",
   "metadata": {},
   "outputs": [],
   "source": [
    "def build_dce_net():\n",
    "    input_img = keras.Input(shape=[None, None, 3])\n",
    "    conv1 = layers.Conv2D(\n",
    "        32, (3, 3), strides=(1, 1), activation=\"relu\", padding=\"same\"\n",
    "    )(input_img)\n",
    "    conv2 = layers.Conv2D(\n",
    "        32, (3, 3), strides=(1, 1), activation=\"relu\", padding=\"same\"\n",
    "    )(conv1)\n",
    "    conv3 = layers.Conv2D(\n",
    "        32, (3, 3), strides=(1, 1), activation=\"relu\", padding=\"same\"\n",
    "    )(conv2)\n",
    "    conv4 = layers.Conv2D(\n",
    "        32, (3, 3), strides=(1, 1), activation=\"relu\", padding=\"same\"\n",
    "    )(conv3)\n",
    "    int_con1 = layers.Concatenate(axis=-1)([conv4, conv3])\n",
    "    conv5 = layers.Conv2D(\n",
    "        32, (3, 3), strides=(1, 1), activation=\"relu\", padding=\"same\"\n",
    "    )(int_con1)\n",
    "    int_con2 = layers.Concatenate(axis=-1)([conv5, conv2])\n",
    "    conv6 = layers.Conv2D(\n",
    "        32, (3, 3), strides=(1, 1), activation=\"relu\", padding=\"same\"\n",
    "    )(int_con2)\n",
    "    int_con3 = layers.Concatenate(axis=-1)([conv6, conv1])\n",
    "    x_r = layers.Conv2D(24, (3, 3), strides=(1, 1), activation=\"tanh\", padding=\"same\")(\n",
    "        int_con3\n",
    "    )\n",
    "    return keras.Model(inputs=input_img, outputs=x_r)"
   ]
  },
  {
   "cell_type": "code",
   "execution_count": 17,
   "id": "2dcfecff-e878-4d9e-b7ef-4458a5524772",
   "metadata": {},
   "outputs": [],
   "source": [
    "class ZeroDCE(keras.Model):\n",
    "    def __init__(self, **kwargs):\n",
    "        super().__init__(**kwargs)\n",
    "        self.dce_model = build_dce_net()\n",
    "\n",
    "    def compile(self, learning_rate, **kwargs):\n",
    "        super().compile(**kwargs)\n",
    "        self.optimizer = keras.optimizers.Adam(learning_rate=learning_rate)\n",
    "        self.spatial_constancy_loss = SpatialConsistencyLoss(reduction=\"none\")\n",
    "        self.total_loss_tracker = keras.metrics.Mean(name=\"total_loss\")\n",
    "        self.illumination_smoothness_loss_tracker = keras.metrics.Mean(\n",
    "            name=\"illumination_smoothness_loss\"\n",
    "        )\n",
    "        self.spatial_constancy_loss_tracker = keras.metrics.Mean(\n",
    "            name=\"spatial_constancy_loss\"\n",
    "        )\n",
    "        self.color_constancy_loss_tracker = keras.metrics.Mean(\n",
    "            name=\"color_constancy_loss\"\n",
    "        )\n",
    "        self.exposure_loss_tracker = keras.metrics.Mean(name=\"exposure_loss\")\n",
    "\n",
    "    @property\n",
    "    def metrics(self):\n",
    "        return [\n",
    "            self.total_loss_tracker,\n",
    "            self.illumination_smoothness_loss_tracker,\n",
    "            self.spatial_constancy_loss_tracker,\n",
    "            self.color_constancy_loss_tracker,\n",
    "            self.exposure_loss_tracker,\n",
    "        ]\n",
    "\n",
    "    def get_enhanced_image(self, data, output):\n",
    "        r1 = output[:, :, :, :3]\n",
    "        r2 = output[:, :, :, 3:6]\n",
    "        r3 = output[:, :, :, 6:9]\n",
    "        r4 = output[:, :, :, 9:12]\n",
    "        r5 = output[:, :, :, 12:15]\n",
    "        r6 = output[:, :, :, 15:18]\n",
    "        r7 = output[:, :, :, 18:21]\n",
    "        r8 = output[:, :, :, 21:24]\n",
    "        x = data + r1 * (tf.square(data) - data)\n",
    "        x = x + r2 * (tf.square(x) - x)\n",
    "        x = x + r3 * (tf.square(x) - x)\n",
    "        enhanced_image = x + r4 * (tf.square(x) - x)\n",
    "        x = enhanced_image + r5 * (tf.square(enhanced_image) - enhanced_image)\n",
    "        x = x + r6 * (tf.square(x) - x)\n",
    "        x = x + r7 * (tf.square(x) - x)\n",
    "        enhanced_image = x + r8 * (tf.square(x) - x)\n",
    "        return enhanced_image\n",
    "\n",
    "    def call(self, data):\n",
    "        dce_net_output = self.dce_model(data)\n",
    "        return self.get_enhanced_image(data, dce_net_output)\n",
    "\n",
    "    def compute_losses(self, data, output):\n",
    "        enhanced_image = self.get_enhanced_image(data, output)\n",
    "        loss_illumination = 200 * illumination_smoothness_loss(output)\n",
    "        loss_spatial_constancy = tf.reduce_mean(\n",
    "            self.spatial_constancy_loss(enhanced_image, data)\n",
    "        )\n",
    "        loss_color_constancy = 5 * tf.reduce_mean(color_constancy_loss(enhanced_image))\n",
    "        loss_exposure = 10 * tf.reduce_mean(exposure_loss(enhanced_image))\n",
    "        total_loss = (\n",
    "            loss_illumination\n",
    "            + loss_spatial_constancy\n",
    "            + loss_color_constancy\n",
    "            + loss_exposure\n",
    "        )\n",
    "\n",
    "        return {\n",
    "            \"total_loss\": total_loss,\n",
    "            \"illumination_smoothness_loss\": loss_illumination,\n",
    "            \"spatial_constancy_loss\": loss_spatial_constancy,\n",
    "            \"color_constancy_loss\": loss_color_constancy,\n",
    "            \"exposure_loss\": loss_exposure,\n",
    "        }\n",
    "\n",
    "    def train_step(self, data):\n",
    "        with tf.GradientTape() as tape:\n",
    "            output = self.dce_model(data)\n",
    "            losses = self.compute_losses(data, output)\n",
    "\n",
    "        gradients = tape.gradient(\n",
    "            losses[\"total_loss\"], self.dce_model.trainable_weights\n",
    "        )\n",
    "        self.optimizer.apply_gradients(zip(gradients, self.dce_model.trainable_weights))\n",
    "\n",
    "        self.total_loss_tracker.update_state(losses[\"total_loss\"])\n",
    "        self.illumination_smoothness_loss_tracker.update_state(\n",
    "            losses[\"illumination_smoothness_loss\"]\n",
    "        )\n",
    "        self.spatial_constancy_loss_tracker.update_state(\n",
    "            losses[\"spatial_constancy_loss\"]\n",
    "        )\n",
    "        self.color_constancy_loss_tracker.update_state(losses[\"color_constancy_loss\"])\n",
    "        self.exposure_loss_tracker.update_state(losses[\"exposure_loss\"])\n",
    "\n",
    "        return {metric.name: metric.result() for metric in self.metrics}\n",
    "\n",
    "    def test_step(self, data):\n",
    "        output = self.dce_model(data)\n",
    "        losses = self.compute_losses(data, output)\n",
    "\n",
    "        self.total_loss_tracker.update_state(losses[\"total_loss\"])\n",
    "        self.illumination_smoothness_loss_tracker.update_state(\n",
    "            losses[\"illumination_smoothness_loss\"]\n",
    "        )\n",
    "        self.spatial_constancy_loss_tracker.update_state(\n",
    "            losses[\"spatial_constancy_loss\"]\n",
    "        )\n",
    "        self.color_constancy_loss_tracker.update_state(losses[\"color_constancy_loss\"])\n",
    "        self.exposure_loss_tracker.update_state(losses[\"exposure_loss\"])\n",
    "\n",
    "        return {metric.name: metric.result() for metric in self.metrics}\n",
    "\n",
    "    def save_weights(self, filepath, overwrite=True, save_format=None, options=None):\n",
    "        \"\"\"While saving the weights, we simply save the weights of the DCE-Net\"\"\"\n",
    "        self.dce_model.save_weights(\n",
    "            filepath,\n",
    "            overwrite=overwrite,\n",
    "            save_format=save_format,\n",
    "            options=options,\n",
    "        )\n",
    "\n",
    "    def load_weights(self, filepath, by_name=False, skip_mismatch=False, options=None):\n",
    "        \"\"\"While loading the weights, we simply load the weights of the DCE-Net\"\"\"\n",
    "        self.dce_model.load_weights(\n",
    "            filepath=filepath,\n",
    "            by_name=by_name,\n",
    "            skip_mismatch=skip_mismatch,\n",
    "            options=options,\n",
    "        )"
   ]
  },
  {
   "cell_type": "code",
   "execution_count": null,
   "id": "8e88a5ef-8368-4b6d-95bc-12a7ec4a2aa0",
   "metadata": {},
   "outputs": [
    {
     "name": "stdout",
     "output_type": "stream",
     "text": [
      "WARNING:tensorflow:From C:\\Users\\KAUSTUBH\\AppData\\Local\\Programs\\Python\\Python311\\Lib\\site-packages\\keras\\src\\optimizers\\__init__.py:309: The name tf.train.Optimizer is deprecated. Please use tf.compat.v1.train.Optimizer instead.\n",
      "\n",
      "44/48 [==========================>...] - ETA: 1:13 - total_loss: nan - illumination_smoothness_loss: nan - spatial_constancy_loss: nan - color_constancy_loss: nan - exposure_loss: nan"
     ]
    }
   ],
   "source": [
    "zero_dce_model = ZeroDCE()\n",
    "zero_dce_model.compile(learning_rate=1e-4)\n",
    "history = zero_dce_model.fit(train_data, validation_data=valid_data, epochs=1)\n",
    "\n",
    "\n",
    "def plot_result(item):\n",
    "    plt.plot(history.history[item], label=item)\n",
    "    plt.plot(history.history[\"val_\" + item], label=\"val_\" + item)\n",
    "    plt.xlabel(\"Epochs\")\n",
    "    plt.ylabel(item)\n",
    "    plt.title(\"Train and Validation {} Over Epochs\".format(item), fontsize=14)\n",
    "    plt.legend()\n",
    "    plt.grid()\n",
    "    plt.show()\n",
    "\n",
    "\n",
    "plot_result(\"total_loss\")\n",
    "plot_result(\"illumination_smoothness_loss\")\n",
    "plot_result(\"spatial_constancy_loss\")\n",
    "plot_result(\"color_constancy_loss\")\n",
    "plot_result(\"exposure_loss\")\n",
    "#Epoch 1/100"
   ]
  },
  {
   "cell_type": "code",
   "execution_count": null,
   "id": "f7709599-9d52-4025-bf12-c6ee1de50a66",
   "metadata": {},
   "outputs": [],
   "source": [
    "\n",
    "\n"
   ]
  },
  {
   "cell_type": "code",
   "execution_count": null,
   "id": "194e7f08-370f-4312-b5f4-2f55c7373fd3",
   "metadata": {},
   "outputs": [],
   "source": []
  }
 ],
 "metadata": {
  "kernelspec": {
   "display_name": "Python 3 (ipykernel)",
   "language": "python",
   "name": "python3"
  },
  "language_info": {
   "codemirror_mode": {
    "name": "ipython",
    "version": 3
   },
   "file_extension": ".py",
   "mimetype": "text/x-python",
   "name": "python",
   "nbconvert_exporter": "python",
   "pygments_lexer": "ipython3",
   "version": "3.11.3"
  }
 },
 "nbformat": 4,
 "nbformat_minor": 5
}
